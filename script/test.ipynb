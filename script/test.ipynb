{
 "cells": [
  {
   "cell_type": "code",
   "execution_count": 1,
   "source": [
    "from vnpy_ftx.ftx_gateway import FtxGateway\n",
    "from vnpy.event.engine import  EventEngine\n",
    "from vnpy.trader.object import (\n",
    "    OrderRequest,\n",
    "    CancelRequest,\n",
    "    SubscribeRequest\n",
    ")\n",
    "from vnpy.trader.constant import (\n",
    "    Direction,\n",
    "    OrderType\n",
    ")\n",
    "from enum import Enum\n",
    "import json\n",
    "\n",
    "class Exchange(Enum):\n",
    "    FTX = \"FTX\"\n",
    "\n",
    "event_engine = EventEngine()\n",
    "gateway = FtxGateway(event_engine)"
   ],
   "outputs": [],
   "metadata": {}
  },
  {
   "cell_type": "code",
   "execution_count": 2,
   "source": [
    "with open(\"./test.json\") as f:\n",
    "    SETTING = json.load(f)\n",
    "\n",
    "setting = {\n",
    "            \"key\":str(SETTING[\"API_Key\"]),\n",
    "            \"secret\":str(SETTING[\"API_Secret_Key\"]),\n",
    "            \"代理地址\":\"\",\n",
    "            \"代理端口\":0\n",
    "          }\n",
    "print(setting)\n",
    "gateway.connect(setting)"
   ],
   "outputs": [
    {
     "output_type": "stream",
     "name": "stdout",
     "text": [
      "{'key': 'WjapG4xkNace1yjTT-gautm3hVvDyml4ummBnw3N', 'secret': 'jXHXy2g6eQGNfJ1HxViLtoYpPy7LUAuq_NynFRNV', '代理地址': '', '代理端口': 0}\n",
      "PositionData(gateway_name='FTX', symbol='DOGE-PERP', exchange=<Exchange.FTX: 'FTX'>, direction=<Direction.SHORT: '空'>, volume=11.0, frozen=0, price=0.298476, pnl=0.0, yd_volume=0)\n",
      "AccountData(gateway_name='FTX', accountid='DOGE', balance=0.9998, frozen=0.0)\n",
      "AccountData(gateway_name='FTX', accountid='TRX', balance=6.1e-05, frozen=0.0)\n",
      "AccountData(gateway_name='FTX', accountid='USDT', balance=19.69, frozen=0.0)\n",
      "AccountData(gateway_name='FTX', accountid='USD', balance=0.04896756, frozen=0.027665)\n",
      "OrderData(gateway_name='FTX', symbol='DOGE-PERP', exchange=<Exchange.FTX: 'FTX'>, orderid='210819161436000001', type=<OrderType.LIMIT: '限价'>, direction=<Direction.LONG: '多'>, offset=<Offset.NONE: ''>, price=0.27, volume=1.0, traded=0.0, status=<Status.NOTTRADED: '未成交'>, datetime=datetime.datetime(2021, 8, 19, 16, 14, 51, 483469, tzinfo=<DstTzInfo 'Asia/Shanghai' CST+8:00:00 STD>), reference='')\n",
      "OrderData(gateway_name='FTX', symbol='DOGE-PERP', exchange=<Exchange.FTX: 'FTX'>, orderid='210819161302000001', type=<OrderType.LIMIT: '限价'>, direction=<Direction.LONG: '多'>, offset=<Offset.NONE: ''>, price=0.27, volume=1.0, traded=0.0, status=<Status.NOTTRADED: '未成交'>, datetime=datetime.datetime(2021, 8, 19, 16, 13, 42, 458388, tzinfo=<DstTzInfo 'Asia/Shanghai' CST+8:00:00 STD>), reference='')\n",
      "OrderData(gateway_name='FTX', symbol='DOGE-PERP', exchange=<Exchange.FTX: 'FTX'>, orderid='210819155718000001', type=<OrderType.LIMIT: '限价'>, direction=<Direction.LONG: '多'>, offset=<Offset.NONE: ''>, price=0.28, volume=5.0, traded=0.0, status=<Status.NOTTRADED: '未成交'>, datetime=datetime.datetime(2021, 8, 19, 15, 58, 8, 353098, tzinfo=<DstTzInfo 'Asia/Shanghai' CST+8:00:00 STD>), reference='')\n",
      "OrderData(gateway_name='FTX', symbol='DOGE-PERP', exchange=<Exchange.FTX: 'FTX'>, orderid='210818105608000002', type=<OrderType.LIMIT: '限价'>, direction=<Direction.LONG: '多'>, offset=<Offset.NONE: ''>, price=0.26, volume=1.0, traded=0.0, status=<Status.NOTTRADED: '未成交'>, datetime=datetime.datetime(2021, 8, 18, 10, 58, 11, 783046, tzinfo=<DstTzInfo 'Asia/Shanghai' CST+8:00:00 STD>), reference='')\n",
      "合约数量: 703\n"
     ]
    }
   ],
   "metadata": {}
  },
  {
   "cell_type": "code",
   "execution_count": null,
   "source": [
    "# gateway.ws_api.subscribe_private_channels()"
   ],
   "outputs": [],
   "metadata": {}
  },
  {
   "cell_type": "code",
   "execution_count": 3,
   "source": [
    "subscribe_by_symbol = SubscribeRequest(\n",
    "    \"BTC-PERP\",\n",
    "    Exchange.FTX\n",
    ")\n",
    "\n",
    "gateway.subscribe(subscribe_by_symbol)"
   ],
   "outputs": [
    {
     "output_type": "stream",
     "name": "stdout",
     "text": [
      "{'type': 'subscribed', 'channel': 'ticker', 'market': 'BTC-PERP'}\n",
      "{'type': 'subscribed', 'channel': 'fills'}\n",
      "{'type': 'subscribed', 'channel': 'orders'}\n"
     ]
    }
   ],
   "metadata": {}
  },
  {
   "cell_type": "code",
   "execution_count": null,
   "source": [
    "unsubscribe_by_symbol = SubscribeRequest(\n",
    "    \"BTC-PERP\",\n",
    "    Exchange.FTX\n",
    ")\n",
    "gateway.unsubscribe(unsubscribe_by_symbol)"
   ],
   "outputs": [],
   "metadata": {}
  },
  {
   "cell_type": "code",
   "execution_count": 4,
   "source": [
    "order = OrderRequest(\n",
    "    # \"DOGE/USDT\",\n",
    "    \"DOGE-PERP\",\n",
    "    Exchange.FTX,\n",
    "    Direction.LONG,\n",
    "    OrderType.LIMIT,\n",
    "    1,\n",
    "    0.27\n",
    ")\n",
    "gateway.send_order(order)"
   ],
   "outputs": [
    {
     "output_type": "stream",
     "name": "stdout",
     "text": [
      "OrderData(gateway_name='FTX', symbol='DOGE-PERP', exchange=<Exchange.FTX: 'FTX'>, orderid='210819161552000001', type=<OrderType.LIMIT: '限价'>, direction=<Direction.LONG: '多'>, offset=<Offset.NONE: ''>, price=0.27, volume=1.0, traded=0.0, status=<Status.NOTTRADED: '未成交'>, datetime=datetime.datetime(2021, 8, 19, 16, 16, 19, 504921, tzinfo=<DstTzInfo 'Asia/Shanghai' CST+8:00:00 STD>), reference='')\n"
     ]
    }
   ],
   "metadata": {}
  },
  {
   "cell_type": "code",
   "execution_count": null,
   "source": [
    "cancel_order_by_id = CancelRequest(\n",
    "    \"210819161552000001\",\n",
    "    \"DOGE-PERP\",\n",
    "    Exchange.FTX\n",
    ")\n",
    "gateway.cancel_order(cancel_order_by_id)"
   ],
   "outputs": [],
   "metadata": {}
  },
  {
   "cell_type": "code",
   "execution_count": null,
   "source": [
    "gateway.query_account()\n",
    "gateway.query_position()\n",
    "gateway.query_orders()"
   ],
   "outputs": [],
   "metadata": {}
  }
 ],
 "metadata": {
  "orig_nbformat": 4,
  "language_info": {
   "name": "python",
   "version": "3.7.1",
   "mimetype": "text/x-python",
   "codemirror_mode": {
    "name": "ipython",
    "version": 3
   },
   "pygments_lexer": "ipython3",
   "nbconvert_exporter": "python",
   "file_extension": ".py"
  },
  "kernelspec": {
   "name": "python3",
   "display_name": "Python 3.7.1 64-bit ('vnstudio': conda)"
  },
  "interpreter": {
   "hash": "38a9b98f806916372427737aa1cb413b47aea37f0e6110b8168bb8fa33a439bc"
  }
 },
 "nbformat": 4,
 "nbformat_minor": 2
}